{
 "cells": [
  {
   "cell_type": "code",
   "execution_count": null,
   "id": "455300e6-b076-4159-823e-32c844684cb5",
   "metadata": {},
   "outputs": [],
   "source": [
    "#Iris Flower Clssification\n",
    "\n",
    "#import required modules\n",
    "import sklearn\n",
    "import numpy \n",
    "import pandas as pd\n",
    "import numpy as np\n",
    "import matplotlib.pyplot as plt\n",
    "import seaborn as sns\n",
    "import warnings\n",
    "warnings.filterwarningd('ignore')\n",
    "\n"
   ]
  },
  {
   "cell_type": "code",
   "execution_count": null,
   "id": "dbe9fce8-f05c-49fc-99b6-ec2c7ae34c33",
   "metadata": {},
   "outputs": [],
   "source": [
    "!pip install scikit-learn==1.3.0"
   ]
  },
  {
   "cell_type": "markdown",
   "id": "5f8f293e-5213-4ed9-aa3f-9b9423a9d09c",
   "metadata": {},
   "source": [
    "#Loading the dataset"
   ]
  },
  {
   "cell_type": "code",
   "execution_count": null,
   "id": "aefb5569-99b0-4bef-9748-924f8925feed",
   "metadata": {},
   "outputs": [],
   "source": [
    "df=pd.read_csv('iris.csv')\n",
    "df.head()"
   ]
  },
  {
   "cell_type": "code",
   "execution_count": null,
   "id": "67ffdc28-26d2-4cfd-8059-6b9521e4c5df",
   "metadata": {},
   "outputs": [],
   "source": [
    "#deleting id column\n",
    "df=df.drop(columns=[\"ID\"])\n",
    "df.head()"
   ]
  },
  {
   "cell_type": "code",
   "execution_count": null,
   "id": "e2e377ea-3f7d-45af-93cb-47d675f92913",
   "metadata": {},
   "outputs": [],
   "source": [
    "#displaying basic stats of dataframe\n"
   ]
  }
 ],
 "metadata": {
  "kernelspec": {
   "display_name": "Python 3 (ipykernel)",
   "language": "python",
   "name": "python3"
  },
  "language_info": {
   "codemirror_mode": {
    "name": "ipython",
    "version": 3
   },
   "file_extension": ".py",
   "mimetype": "text/x-python",
   "name": "python",
   "nbconvert_exporter": "python",
   "pygments_lexer": "ipython3",
   "version": "3.12.7"
  }
 },
 "nbformat": 4,
 "nbformat_minor": 5
}
